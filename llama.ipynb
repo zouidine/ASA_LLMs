{
  "cells": [
    {
      "cell_type": "markdown",
      "metadata": {
        "id": "view-in-github",
        "colab_type": "text"
      },
      "source": [
        "<a href=\"https://colab.research.google.com/github/zouidine/ASA_LLMs/blob/master/llama.ipynb\" target=\"_parent\"><img src=\"https://colab.research.google.com/assets/colab-badge.svg\" alt=\"Open In Colab\"/></a>"
      ]
    },
    {
      "cell_type": "code",
      "execution_count": null,
      "metadata": {
        "colab": {
          "base_uri": "https://localhost:8080/"
        },
        "id": "PK2fdQ4h7Cqj",
        "outputId": "5397a521-88f1-445a-c811-08df559277ce"
      },
      "outputs": [
        {
          "name": "stdout",
          "output_type": "stream",
          "text": [
            "Cloning into 'ASA_LLMs'...\n",
            "remote: Enumerating objects: 78, done.\u001b[K\n",
            "remote: Counting objects: 100% (41/41), done.\u001b[K\n",
            "remote: Compressing objects: 100% (28/28), done.\u001b[K\n",
            "remote: Total 78 (delta 14), reused 34 (delta 9), pack-reused 37\u001b[K\n",
            "Receiving objects: 100% (78/78), 13.26 MiB | 15.62 MiB/s, done.\n",
            "Resolving deltas: 100% (26/26), done.\n"
          ]
        }
      ],
      "source": [
        "!git clone https://github.com/zouidine/ASA_LLMs.git"
      ]
    },
    {
      "cell_type": "code",
      "execution_count": null,
      "metadata": {
        "colab": {
          "base_uri": "https://localhost:8080/"
        },
        "id": "aDVICE6n7LOt",
        "outputId": "7046e7e8-77e7-428b-f83f-b3723dd1569d"
      },
      "outputs": [
        {
          "name": "stdout",
          "output_type": "stream",
          "text": [
            "Collecting langchain_groq\n",
            "  Downloading langchain_groq-0.1.5-py3-none-any.whl (11 kB)\n",
            "Collecting groq<1,>=0.4.1 (from langchain_groq)\n",
            "  Downloading groq-0.9.0-py3-none-any.whl (103 kB)\n",
            "\u001b[2K     \u001b[90m━━━━━━━━━━━━━━━━━━━━━━━━━━━━━━━━━━━━━━━━\u001b[0m \u001b[32m103.5/103.5 kB\u001b[0m \u001b[31m1.1 MB/s\u001b[0m eta \u001b[36m0:00:00\u001b[0m\n",
            "\u001b[?25hCollecting langchain-core<0.3,>=0.1.45 (from langchain_groq)\n",
            "  Downloading langchain_core-0.2.9-py3-none-any.whl (321 kB)\n",
            "\u001b[2K     \u001b[90m━━━━━━━━━━━━━━━━━━━━━━━━━━━━━━━━━━━━━━━━\u001b[0m \u001b[32m321.8/321.8 kB\u001b[0m \u001b[31m5.1 MB/s\u001b[0m eta \u001b[36m0:00:00\u001b[0m\n",
            "\u001b[?25hRequirement already satisfied: anyio<5,>=3.5.0 in /usr/local/lib/python3.10/dist-packages (from groq<1,>=0.4.1->langchain_groq) (3.7.1)\n",
            "Requirement already satisfied: distro<2,>=1.7.0 in /usr/lib/python3/dist-packages (from groq<1,>=0.4.1->langchain_groq) (1.7.0)\n",
            "Collecting httpx<1,>=0.23.0 (from groq<1,>=0.4.1->langchain_groq)\n",
            "  Downloading httpx-0.27.0-py3-none-any.whl (75 kB)\n",
            "\u001b[2K     \u001b[90m━━━━━━━━━━━━━━━━━━━━━━━━━━━━━━━━━━━━━━━━\u001b[0m \u001b[32m75.6/75.6 kB\u001b[0m \u001b[31m6.1 MB/s\u001b[0m eta \u001b[36m0:00:00\u001b[0m\n",
            "\u001b[?25hRequirement already satisfied: pydantic<3,>=1.9.0 in /usr/local/lib/python3.10/dist-packages (from groq<1,>=0.4.1->langchain_groq) (2.7.3)\n",
            "Requirement already satisfied: sniffio in /usr/local/lib/python3.10/dist-packages (from groq<1,>=0.4.1->langchain_groq) (1.3.1)\n",
            "Requirement already satisfied: typing-extensions<5,>=4.7 in /usr/local/lib/python3.10/dist-packages (from groq<1,>=0.4.1->langchain_groq) (4.12.2)\n",
            "Requirement already satisfied: PyYAML>=5.3 in /usr/local/lib/python3.10/dist-packages (from langchain-core<0.3,>=0.1.45->langchain_groq) (6.0.1)\n",
            "Collecting jsonpatch<2.0,>=1.33 (from langchain-core<0.3,>=0.1.45->langchain_groq)\n",
            "  Downloading jsonpatch-1.33-py2.py3-none-any.whl (12 kB)\n",
            "Collecting langsmith<0.2.0,>=0.1.75 (from langchain-core<0.3,>=0.1.45->langchain_groq)\n",
            "  Downloading langsmith-0.1.80-py3-none-any.whl (125 kB)\n",
            "\u001b[2K     \u001b[90m━━━━━━━━━━━━━━━━━━━━━━━━━━━━━━━━━━━━━━━━\u001b[0m \u001b[32m125.3/125.3 kB\u001b[0m \u001b[31m8.2 MB/s\u001b[0m eta \u001b[36m0:00:00\u001b[0m\n",
            "\u001b[?25hRequirement already satisfied: packaging<25,>=23.2 in /usr/local/lib/python3.10/dist-packages (from langchain-core<0.3,>=0.1.45->langchain_groq) (24.1)\n",
            "Requirement already satisfied: tenacity!=8.4.0,<9.0.0,>=8.1.0 in /usr/local/lib/python3.10/dist-packages (from langchain-core<0.3,>=0.1.45->langchain_groq) (8.3.0)\n",
            "Requirement already satisfied: idna>=2.8 in /usr/local/lib/python3.10/dist-packages (from anyio<5,>=3.5.0->groq<1,>=0.4.1->langchain_groq) (3.7)\n",
            "Requirement already satisfied: exceptiongroup in /usr/local/lib/python3.10/dist-packages (from anyio<5,>=3.5.0->groq<1,>=0.4.1->langchain_groq) (1.2.1)\n",
            "Requirement already satisfied: certifi in /usr/local/lib/python3.10/dist-packages (from httpx<1,>=0.23.0->groq<1,>=0.4.1->langchain_groq) (2024.6.2)\n",
            "Collecting httpcore==1.* (from httpx<1,>=0.23.0->groq<1,>=0.4.1->langchain_groq)\n",
            "  Downloading httpcore-1.0.5-py3-none-any.whl (77 kB)\n",
            "\u001b[2K     \u001b[90m━━━━━━━━━━━━━━━━━━━━━━━━━━━━━━━━━━━━━━━━\u001b[0m \u001b[32m77.9/77.9 kB\u001b[0m \u001b[31m7.1 MB/s\u001b[0m eta \u001b[36m0:00:00\u001b[0m\n",
            "\u001b[?25hCollecting h11<0.15,>=0.13 (from httpcore==1.*->httpx<1,>=0.23.0->groq<1,>=0.4.1->langchain_groq)\n",
            "  Downloading h11-0.14.0-py3-none-any.whl (58 kB)\n",
            "\u001b[2K     \u001b[90m━━━━━━━━━━━━━━━━━━━━━━━━━━━━━━━━━━━━━━━━\u001b[0m \u001b[32m58.3/58.3 kB\u001b[0m \u001b[31m5.9 MB/s\u001b[0m eta \u001b[36m0:00:00\u001b[0m\n",
            "\u001b[?25hCollecting jsonpointer>=1.9 (from jsonpatch<2.0,>=1.33->langchain-core<0.3,>=0.1.45->langchain_groq)\n",
            "  Downloading jsonpointer-3.0.0-py2.py3-none-any.whl (7.6 kB)\n",
            "Collecting orjson<4.0.0,>=3.9.14 (from langsmith<0.2.0,>=0.1.75->langchain-core<0.3,>=0.1.45->langchain_groq)\n",
            "  Downloading orjson-3.10.5-cp310-cp310-manylinux_2_17_x86_64.manylinux2014_x86_64.whl (144 kB)\n",
            "\u001b[2K     \u001b[90m━━━━━━━━━━━━━━━━━━━━━━━━━━━━━━━━━━━━━━━━\u001b[0m \u001b[32m145.0/145.0 kB\u001b[0m \u001b[31m2.7 MB/s\u001b[0m eta \u001b[36m0:00:00\u001b[0m\n",
            "\u001b[?25hRequirement already satisfied: requests<3,>=2 in /usr/local/lib/python3.10/dist-packages (from langsmith<0.2.0,>=0.1.75->langchain-core<0.3,>=0.1.45->langchain_groq) (2.31.0)\n",
            "Requirement already satisfied: annotated-types>=0.4.0 in /usr/local/lib/python3.10/dist-packages (from pydantic<3,>=1.9.0->groq<1,>=0.4.1->langchain_groq) (0.7.0)\n",
            "Requirement already satisfied: pydantic-core==2.18.4 in /usr/local/lib/python3.10/dist-packages (from pydantic<3,>=1.9.0->groq<1,>=0.4.1->langchain_groq) (2.18.4)\n",
            "Requirement already satisfied: charset-normalizer<4,>=2 in /usr/local/lib/python3.10/dist-packages (from requests<3,>=2->langsmith<0.2.0,>=0.1.75->langchain-core<0.3,>=0.1.45->langchain_groq) (3.3.2)\n",
            "Requirement already satisfied: urllib3<3,>=1.21.1 in /usr/local/lib/python3.10/dist-packages (from requests<3,>=2->langsmith<0.2.0,>=0.1.75->langchain-core<0.3,>=0.1.45->langchain_groq) (2.0.7)\n",
            "Installing collected packages: orjson, jsonpointer, h11, jsonpatch, httpcore, langsmith, httpx, langchain-core, groq, langchain_groq\n",
            "Successfully installed groq-0.9.0 h11-0.14.0 httpcore-1.0.5 httpx-0.27.0 jsonpatch-1.33 jsonpointer-3.0.0 langchain-core-0.2.9 langchain_groq-0.1.5 langsmith-0.1.80 orjson-3.10.5\n"
          ]
        }
      ],
      "source": [
        "pip install langchain_groq"
      ]
    },
    {
      "cell_type": "code",
      "execution_count": null,
      "metadata": {
        "id": "VtRdTzWQ7NbT"
      },
      "outputs": [],
      "source": [
        "from sklearn.metrics import accuracy_score, f1_score, precision_score, recall_score\n",
        "from sklearn.metrics import confusion_matrix, ConfusionMatrixDisplay\n",
        "from langchain_groq import ChatGroq\n",
        "import matplotlib.pyplot as plt\n",
        "from tqdm import tqdm\n",
        "import random"
      ]
    },
    {
      "cell_type": "code",
      "execution_count": null,
      "metadata": {
        "id": "WNswgT_M7S06"
      },
      "outputs": [],
      "source": [
        "data = open(\"/content/ASA_LLMs/data/test_samples.tsv\",\n",
        "            encoding='utf-16').read().strip().split('\\n')\n",
        "texts = [x.split('\\t')[0] for x in data]\n",
        "labels = [int(x.split('\\t')[1]) for x in data]\n",
        "\n",
        "data = open(\"/content/ASA_LLMs/data/train_samples.tsv\",\n",
        "            encoding='utf-16').read().strip().split('\\n')\n",
        "train_texts = [x.split('\\t')[0] for x in data]\n",
        "train_labels = [int(x.split('\\t')[1]) for x in data]"
      ]
    },
    {
      "cell_type": "markdown",
      "metadata": {
        "id": "PFIoxIHSOaxM"
      },
      "source": [
        "# Zero-shot"
      ]
    },
    {
      "cell_type": "code",
      "execution_count": null,
      "metadata": {
        "colab": {
          "base_uri": "https://localhost:8080/"
        },
        "id": "6CnBxS5z8cxR",
        "outputId": "0b2ccd7b-3ab7-4d96-d3aa-21876ae2ad70"
      },
      "outputs": [
        {
          "name": "stderr",
          "output_type": "stream",
          "text": [
            "100%|██████████| 500/500 [18:49<00:00,  2.26s/it]\n"
          ]
        }
      ],
      "source": [
        "GROQ_API_KEY = \"YOUR_GROQ_API_KEY\"\n",
        "groq_llm = ChatGroq(model_name=\"llama3-70b-8192\", temperature=0,\n",
        "                    api_key=GROQ_API_KEY, max_tokens=1)\n",
        "\n",
        "system_message = \"\"\"Classify the input text as 'positive' or 'negative'.\n",
        "The text will be delimited by triple backticks ``` in the input.\n",
        "Answer only with 'positive' or 'negative'.\n",
        "Do not explain your answer!\"\"\"\n",
        "user_message_template =\"Text: ```{text}```\"\n",
        "\n",
        "generated_labels = []\n",
        "for i in tqdm(range(len(texts))):\n",
        "    prompt = [{\"role\":\"system\", \"content\":system_message},\n",
        "     {\"role\":\"user\", \"content\":user_message_template.format(text=texts[i])}]\n",
        "    response = groq_llm.invoke(prompt)\n",
        "    label = 1 if response.content.lower() == 'positive' else 0\n",
        "    generated_labels.append(label)"
      ]
    },
    {
      "cell_type": "code",
      "execution_count": null,
      "metadata": {
        "colab": {
          "base_uri": "https://localhost:8080/"
        },
        "id": "7Hoiwb-R9R2o",
        "outputId": "fd70e2ad-bf7f-4a5c-ed64-68d5531a0ecb"
      },
      "outputs": [
        {
          "name": "stdout",
          "output_type": "stream",
          "text": [
            "\n",
            "Acc: 76.40%\n",
            "Pre: 78.21%\n",
            "Rec: 73.20%\n",
            "F1s: 75.62%\n"
          ]
        }
      ],
      "source": [
        "acc = accuracy_score(labels, generated_labels)\n",
        "pre = precision_score(labels, generated_labels)\n",
        "rec = recall_score(labels, generated_labels)\n",
        "f1s = f1_score(labels, generated_labels)\n",
        "\n",
        "print(f'\\nAcc: {acc*100:.2f}%\\nPre: {pre*100:.2f}%\\nRec: {rec*100:.2f}%\\nF1s: {f1s*100:.2f}%')"
      ]
    },
    {
      "cell_type": "code",
      "execution_count": null,
      "metadata": {
        "colab": {
          "base_uri": "https://localhost:8080/",
          "height": 449
        },
        "id": "qYTX3XwzgfuA",
        "outputId": "c5b98529-183e-4fbc-a413-2baf7ac8bfde"
      },
      "outputs": [
        {
          "data": {
            "image/png": "[encoded data removed]",
            "text/plain": [
              "<Figure size 640x480 with 2 Axes>"
            ]
          },
          "metadata": {},
          "output_type": "display_data"
        }
      ],
      "source": [
        "cm = confusion_matrix(labels, generated_labels)\n",
        "disp = ConfusionMatrixDisplay(confusion_matrix=cm)\n",
        "disp.plot()\n",
        "plt.show()"
      ]
    },
    {
      "cell_type": "markdown",
      "metadata": {
        "id": "FkKBiDl_Odh0"
      },
      "source": [
        "#Few-shot"
      ]
    },
    {
      "cell_type": "code",
      "execution_count": null,
      "metadata": {
        "id": "p2d_nbEELHic"
      },
      "outputs": [],
      "source": [
        "def create_examples(positive_reviews, negative_reviews, n=4):\n",
        "    examples = []\n",
        "    positive_examples = random.sample(positive_reviews, n)\n",
        "    negative_examples = random.sample(negative_reviews, n)\n",
        "\n",
        "    for i in range(n):\n",
        "        examples.append({'text': positive_examples[i], 'sentiment': 'positive'})\n",
        "        examples.append({'text': negative_examples[i], 'sentiment': 'negative'})\n",
        "    return examples\n",
        "\n",
        "def create_prompt(system_message, examples, user_message_template):\n",
        "    few_shot_prompt = [{'role':'system', 'content':system_message}]\n",
        "    for example in examples:\n",
        "        example_review = example['text']\n",
        "        example_sentiment = example['sentiment']\n",
        "        few_shot_prompt.append(\n",
        "            {'role':'user',\n",
        "             'content':user_message_template.format(text=example_review)}\n",
        "        )\n",
        "        few_shot_prompt.append(\n",
        "            {'role':'assistant', 'content':f\"{example_sentiment}\"}\n",
        "        )\n",
        "    return few_shot_prompt"
      ]
    },
    {
      "cell_type": "markdown",
      "metadata": {
        "id": "GXMb6zJvOi3O"
      },
      "source": [
        "## 1-shot"
      ]
    },
    {
      "cell_type": "code",
      "execution_count": null,
      "metadata": {
        "colab": {
          "base_uri": "https://localhost:8080/"
        },
        "id": "FOFHii2vOVvZ",
        "outputId": "e8e753d9-869c-4542-f981-85b201422f37"
      },
      "outputs": [
        {
          "name": "stderr",
          "output_type": "stream",
          "text": [
            "100%|██████████| 500/500 [25:51<00:00,  3.10s/it]\n"
          ]
        }
      ],
      "source": [
        "GROQ_API_KEY = \"YOUR_GROQ_API_KEY\"\n",
        "groq_llm = ChatGroq(model_name=\"llama3-70b-8192\", temperature=0, api_key=GROQ_API_KEY,\n",
        "                    max_tokens=1)\n",
        "\n",
        "positive_reviews = [train_texts[i] for i in range(len(train_texts)) if train_labels[i] == 1]\n",
        "negative_reviews = [train_texts[i] for i in range(len(train_texts)) if train_labels[i] == 0]\n",
        "examples = create_examples(positive_reviews, negative_reviews, 1)\n",
        "\n",
        "system_message = \"\"\"Classify the input text as 'positive' or 'negative'.\n",
        "The text will be delimited by triple backticks ``` in the input.\n",
        "Answer only with 'positive' or 'negative'.\n",
        "Do not explain your answer!\"\"\"\n",
        "user_message_template =\"Text: ```{text}```\"\n",
        "\n",
        "generated_labels = []\n",
        "for i in tqdm(range(len(texts))):\n",
        "    few_shot_prompt = create_prompt(system_message, examples,\n",
        "                                    user_message_template)\n",
        "    few_shot_prompt.append({\"role\":\"user\",\n",
        "                            \"content\":user_message_template.format(text=texts[i])})\n",
        "\n",
        "    response = groq_llm.invoke(few_shot_prompt)\n",
        "    label = 1 if response.content.lower() == 'positive' else 0\n",
        "    generated_labels.append(label)"
      ]
    },
    {
      "cell_type": "code",
      "execution_count": null,
      "metadata": {
        "colab": {
          "base_uri": "https://localhost:8080/"
        },
        "id": "QfgCA9AZOmr5",
        "outputId": "35d3dbe3-7ceb-4643-c253-16e9ea8ee695"
      },
      "outputs": [
        {
          "name": "stdout",
          "output_type": "stream",
          "text": [
            "\n",
            "Acc: 81.40%\n",
            "Pre: 79.85%\n",
            "Rec: 84.00%\n",
            "F1s: 81.87%\n"
          ]
        }
      ],
      "source": [
        "acc = accuracy_score(labels, generated_labels)\n",
        "pre = precision_score(labels, generated_labels)\n",
        "rec = recall_score(labels, generated_labels)\n",
        "f1s = f1_score(labels, generated_labels)\n",
        "\n",
        "print(f'\\nAcc: {acc*100:.2f}%\\nPre: {pre*100:.2f}%\\nRec: {rec*100:.2f}%\\nF1s: {f1s*100:.2f}%')"
      ]
    },
    {
      "cell_type": "code",
      "execution_count": null,
      "metadata": {
        "colab": {
          "base_uri": "https://localhost:8080/",
          "height": 449
        },
        "id": "L5-M6dfJpS07",
        "outputId": "41946718-dc48-4212-db18-7d11d6fbdb0d"
      },
      "outputs": [
        {
          "data": {
            "image/png": "[encoded data removed]",
            "text/plain": [
              "<Figure size 640x480 with 2 Axes>"
            ]
          },
          "metadata": {},
          "output_type": "display_data"
        }
      ],
      "source": [
        "cm = confusion_matrix(labels, generated_labels)\n",
        "disp = ConfusionMatrixDisplay(confusion_matrix=cm)\n",
        "disp.plot()\n",
        "plt.show()"
      ]
    },
    {
      "cell_type": "markdown",
      "metadata": {
        "id": "WOfqzXjiPAqd"
      },
      "source": [
        "## 2-shot"
      ]
    },
    {
      "cell_type": "code",
      "execution_count": null,
      "metadata": {
        "colab": {
          "background_save": true,
          "base_uri": "https://localhost:8080/"
        },
        "id": "RyActYrrPFKN",
        "outputId": "940398ad-3f4e-4da3-e919-8c6674609815"
      },
      "outputs": [
        {
          "name": "stderr",
          "output_type": "stream",
          "text": [
            "100%|██████████| 500/500 [57:31<00:00,  6.90s/it]\n"
          ]
        }
      ],
      "source": [
        "GROQ_API_KEY = \"YOUR_GROQ_API_KEY\"\n",
        "groq_llm = ChatGroq(model_name=\"llama3-70b-8192\", temperature=0, api_key=GROQ_API_KEY,\n",
        "                    max_tokens=1)\n",
        "\n",
        "positive_reviews = [train_texts[i] for i in range(len(train_texts)) if train_labels[i] == 1]\n",
        "negative_reviews = [train_texts[i] for i in range(len(train_texts)) if train_labels[i] == 0]\n",
        "examples = create_examples(positive_reviews, negative_reviews, 2)\n",
        "\n",
        "system_message = \"\"\"Classify the input text as 'positive' or 'negative'.\n",
        "The text will be delimited by triple backticks ``` in the input.\n",
        "Answer only with 'positive' or 'negative'.\n",
        "Do not explain your answer!\"\"\"\n",
        "user_message_template =\"Text: ```{text}```\"\n",
        "\n",
        "generated_labels = []\n",
        "for i in tqdm(range(len(texts))):\n",
        "    few_shot_prompt = create_prompt(system_message, examples,\n",
        "                                    user_message_template)\n",
        "    few_shot_prompt.append({\"role\":\"user\",\n",
        "                            \"content\":user_message_template.format(text=texts[i])})\n",
        "\n",
        "    response = groq_llm.invoke(few_shot_prompt)\n",
        "    label = 1 if response.content.lower() == 'positive' else 0\n",
        "    generated_labels.append(label)"
      ]
    },
    {
      "cell_type": "code",
      "execution_count": null,
      "metadata": {
        "colab": {
          "background_save": true
        },
        "id": "-XDjS7CnPIE6",
        "outputId": "86d7107f-d491-45f9-d838-8e611b14c4d8"
      },
      "outputs": [
        {
          "name": "stdout",
          "output_type": "stream",
          "text": [
            "\n",
            "Acc: 82.00%\n",
            "Pre: 80.30%\n",
            "Rec: 84.80%\n",
            "F1s: 82.49%\n"
          ]
        }
      ],
      "source": [
        "acc = accuracy_score(labels, generated_labels)\n",
        "pre = precision_score(labels, generated_labels)\n",
        "rec = recall_score(labels, generated_labels)\n",
        "f1s = f1_score(labels, generated_labels)\n",
        "\n",
        "print(f'\\nAcc: {acc*100:.2f}%\\nPre: {pre*100:.2f}%\\nRec: {rec*100:.2f}%\\nF1s: {f1s*100:.2f}%')"
      ]
    },
    {
      "cell_type": "code",
      "execution_count": null,
      "metadata": {
        "colab": {
          "background_save": true
        },
        "id": "718mXO-TpVpW",
        "outputId": "acd4e34f-3c4c-4cfb-da27-e4d372fbd6e1"
      },
      "outputs": [
        {
          "data": {
            "image/png": "[encoded data removed]",
            "text/plain": [
              "<Figure size 640x480 with 2 Axes>"
            ]
          },
          "metadata": {},
          "output_type": "display_data"
        }
      ],
      "source": [
        "cm = confusion_matrix(labels, generated_labels)\n",
        "disp = ConfusionMatrixDisplay(confusion_matrix=cm)\n",
        "disp.plot()\n",
        "plt.show()"
      ]
    },
    {
      "cell_type": "markdown",
      "metadata": {
        "id": "nyPVWovuPIpA"
      },
      "source": [
        "## 3-shot"
      ]
    },
    {
      "cell_type": "code",
      "execution_count": null,
      "metadata": {
        "id": "EpSftZaCPLmI"
      },
      "outputs": [],
      "source": [
        "GROQ_API_KEY = \"YOUR_GROQ_API_KEY\"\n",
        "groq_llm = ChatGroq(model_name=\"llama3-70b-8192\", temperature=0, api_key=GROQ_API_KEY,\n",
        "                    max_tokens=1)\n",
        "\n",
        "positive_reviews = [train_texts[i] for i in range(len(train_texts)) if train_labels[i] == 1]\n",
        "negative_reviews = [train_texts[i] for i in range(len(train_texts)) if train_labels[i] == 0]\n",
        "examples = create_examples(positive_reviews, negative_reviews, 3)\n",
        "\n",
        "system_message = \"\"\"Classify the input text as 'positive' or 'negative'.\n",
        "The text will be delimited by triple backticks ``` in the input.\n",
        "Answer only with 'positive' or 'negative'.\n",
        "Do not explain your answer!\"\"\"\n",
        "user_message_template =\"Text: ```{text}```\"\n",
        "\n",
        "generated_labels = []\n",
        "for i in tqdm(range(len(texts))):\n",
        "    few_shot_prompt = create_prompt(system_message, examples,\n",
        "                                    user_message_template)\n",
        "    few_shot_prompt.append({\"role\":\"user\",\n",
        "                            \"content\":user_message_template.format(text=texts[i])})\n",
        "\n",
        "    response = groq_llm.invoke(few_shot_prompt)\n",
        "    label = 1 if response.content.lower() == 'positive' else 0\n",
        "    generated_labels.append(label)"
      ]
    },
    {
      "cell_type": "code",
      "execution_count": null,
      "metadata": {
        "colab": {
          "background_save": true
        },
        "id": "YY2G3ggIPLdD",
        "outputId": "b278af12-aa01-4702-8ebc-cc13e07c328c"
      },
      "outputs": [
        {
          "name": "stdout",
          "output_type": "stream",
          "text": [
            "\n",
            "Acc: 84.80%\n",
            "Pre: 80.42%\n",
            "Rec: 92.00%\n",
            "F1s: 85.82%\n"
          ]
        }
      ],
      "source": [
        "acc = accuracy_score(labels, generated_labels)\n",
        "pre = precision_score(labels, generated_labels)\n",
        "rec = recall_score(labels, generated_labels)\n",
        "f1s = f1_score(labels, generated_labels)\n",
        "\n",
        "print(f'\\nAcc: {acc*100:.2f}%\\nPre: {pre*100:.2f}%\\nRec: {rec*100:.2f}%\\nF1s: {f1s*100:.2f}%')"
      ]
    },
    {
      "cell_type": "code",
      "execution_count": 22,
      "metadata": {
        "id": "KTa6EsIZpXmV",
        "colab": {
          "base_uri": "https://localhost:8080/",
          "height": 449
        },
        "outputId": "b9071abb-4cf9-4fe3-b5a4-c973fb36d8ac"
      },
      "outputs": [
        {
          "output_type": "display_data",
          "data": {
            "text/plain": [
              "<Figure size 640x480 with 2 Axes>"
            ],
            "image/png": "[encoded data removed]"
          },
          "metadata": {}
        }
      ],
      "source": [
        "cm = confusion_matrix(labels, generated_labels)\n",
        "disp = ConfusionMatrixDisplay(confusion_matrix=cm)\n",
        "disp.plot()\n",
        "plt.show()"
      ]
    },
    {
      "cell_type": "code",
      "execution_count": null,
      "metadata": {
        "id": "Goqy8NZsXJse"
      },
      "outputs": [],
      "source": []
    }
  ],
  "metadata": {
    "colab": {
      "provenance": [],
      "authorship_tag": "ABX9TyObSJdOo7q826/aAO0OkUxu",
      "include_colab_link": true
    },
    "kernelspec": {
      "display_name": "Python 3",
      "name": "python3"
    },
    "language_info": {
      "name": "python"
    }
  },
  "nbformat": 4,
  "nbformat_minor": 0
}
