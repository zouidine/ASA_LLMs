{
  "cells": [
    {
      "cell_type": "markdown",
      "metadata": {
        "id": "view-in-github",
        "colab_type": "text"
      },
      "source": [
        "<a href=\"https://colab.research.google.com/github/zouidine/ASA_LLMs/blob/master/gemma.ipynb\" target=\"_parent\"><img src=\"https://colab.research.google.com/assets/colab-badge.svg\" alt=\"Open In Colab\"/></a>"
      ]
    },
    {
      "cell_type": "code",
      "execution_count": 1,
      "metadata": {
        "colab": {
          "base_uri": "https://localhost:8080/"
        },
        "id": "PK2fdQ4h7Cqj",
        "outputId": "055ffaa2-acc2-4ebb-9874-cb55c8d8302f"
      },
      "outputs": [
        {
          "output_type": "stream",
          "name": "stdout",
          "text": [
            "Cloning into 'ASA_LLMs'...\n",
            "remote: Enumerating objects: 75, done.\u001b[K\n",
            "remote: Counting objects: 100% (38/38), done.\u001b[K\n",
            "remote: Compressing objects: 100% (34/34), done.\u001b[K\n",
            "remote: Total 75 (delta 14), reused 0 (delta 0), pack-reused 37\u001b[K\n",
            "Receiving objects: 100% (75/75), 13.20 MiB | 9.72 MiB/s, done.\n",
            "Resolving deltas: 100% (26/26), done.\n"
          ]
        }
      ],
      "source": [
        "!git clone https://github.com/zouidine/ASA_LLMs.git"
      ]
    },
    {
      "cell_type": "code",
      "execution_count": 2,
      "metadata": {
        "colab": {
          "base_uri": "https://localhost:8080/"
        },
        "id": "aDVICE6n7LOt",
        "outputId": "0fbdcbfc-17fb-4952-a8ad-1226f4500e37"
      },
      "outputs": [
        {
          "output_type": "stream",
          "name": "stdout",
          "text": [
            "Collecting langchain_groq\n",
            "  Downloading langchain_groq-0.1.5-py3-none-any.whl (11 kB)\n",
            "Collecting groq<1,>=0.4.1 (from langchain_groq)\n",
            "  Downloading groq-0.9.0-py3-none-any.whl (103 kB)\n",
            "\u001b[2K     \u001b[90m━━━━━━━━━━━━━━━━━━━━━━━━━━━━━━━━━━━━━━━━\u001b[0m \u001b[32m103.5/103.5 kB\u001b[0m \u001b[31m4.7 MB/s\u001b[0m eta \u001b[36m0:00:00\u001b[0m\n",
            "\u001b[?25hCollecting langchain-core<0.3,>=0.1.45 (from langchain_groq)\n",
            "  Downloading langchain_core-0.2.8-py3-none-any.whl (315 kB)\n",
            "\u001b[2K     \u001b[90m━━━━━━━━━━━━━━━━━━━━━━━━━━━━━━━━━━━━━━━━\u001b[0m \u001b[32m315.8/315.8 kB\u001b[0m \u001b[31m4.8 MB/s\u001b[0m eta \u001b[36m0:00:00\u001b[0m\n",
            "\u001b[?25hRequirement already satisfied: anyio<5,>=3.5.0 in /usr/local/lib/python3.10/dist-packages (from groq<1,>=0.4.1->langchain_groq) (3.7.1)\n",
            "Requirement already satisfied: distro<2,>=1.7.0 in /usr/lib/python3/dist-packages (from groq<1,>=0.4.1->langchain_groq) (1.7.0)\n",
            "Collecting httpx<1,>=0.23.0 (from groq<1,>=0.4.1->langchain_groq)\n",
            "  Downloading httpx-0.27.0-py3-none-any.whl (75 kB)\n",
            "\u001b[2K     \u001b[90m━━━━━━━━━━━━━━━━━━━━━━━━━━━━━━━━━━━━━━━━\u001b[0m \u001b[32m75.6/75.6 kB\u001b[0m \u001b[31m3.4 MB/s\u001b[0m eta \u001b[36m0:00:00\u001b[0m\n",
            "\u001b[?25hRequirement already satisfied: pydantic<3,>=1.9.0 in /usr/local/lib/python3.10/dist-packages (from groq<1,>=0.4.1->langchain_groq) (2.7.3)\n",
            "Requirement already satisfied: sniffio in /usr/local/lib/python3.10/dist-packages (from groq<1,>=0.4.1->langchain_groq) (1.3.1)\n",
            "Requirement already satisfied: typing-extensions<5,>=4.7 in /usr/local/lib/python3.10/dist-packages (from groq<1,>=0.4.1->langchain_groq) (4.12.2)\n",
            "Requirement already satisfied: PyYAML>=5.3 in /usr/local/lib/python3.10/dist-packages (from langchain-core<0.3,>=0.1.45->langchain_groq) (6.0.1)\n",
            "Collecting jsonpatch<2.0,>=1.33 (from langchain-core<0.3,>=0.1.45->langchain_groq)\n",
            "  Downloading jsonpatch-1.33-py2.py3-none-any.whl (12 kB)\n",
            "Collecting langsmith<0.2.0,>=0.1.75 (from langchain-core<0.3,>=0.1.45->langchain_groq)\n",
            "  Downloading langsmith-0.1.79-py3-none-any.whl (125 kB)\n",
            "\u001b[2K     \u001b[90m━━━━━━━━━━━━━━━━━━━━━━━━━━━━━━━━━━━━━━━━\u001b[0m \u001b[32m125.3/125.3 kB\u001b[0m \u001b[31m2.5 MB/s\u001b[0m eta \u001b[36m0:00:00\u001b[0m\n",
            "\u001b[?25hRequirement already satisfied: packaging<25,>=23.2 in /usr/local/lib/python3.10/dist-packages (from langchain-core<0.3,>=0.1.45->langchain_groq) (24.1)\n",
            "Requirement already satisfied: tenacity<9.0.0,>=8.1.0 in /usr/local/lib/python3.10/dist-packages (from langchain-core<0.3,>=0.1.45->langchain_groq) (8.3.0)\n",
            "Requirement already satisfied: idna>=2.8 in /usr/local/lib/python3.10/dist-packages (from anyio<5,>=3.5.0->groq<1,>=0.4.1->langchain_groq) (3.7)\n",
            "Requirement already satisfied: exceptiongroup in /usr/local/lib/python3.10/dist-packages (from anyio<5,>=3.5.0->groq<1,>=0.4.1->langchain_groq) (1.2.1)\n",
            "Requirement already satisfied: certifi in /usr/local/lib/python3.10/dist-packages (from httpx<1,>=0.23.0->groq<1,>=0.4.1->langchain_groq) (2024.6.2)\n",
            "Collecting httpcore==1.* (from httpx<1,>=0.23.0->groq<1,>=0.4.1->langchain_groq)\n",
            "  Downloading httpcore-1.0.5-py3-none-any.whl (77 kB)\n",
            "\u001b[2K     \u001b[90m━━━━━━━━━━━━━━━━━━━━━━━━━━━━━━━━━━━━━━━━\u001b[0m \u001b[32m77.9/77.9 kB\u001b[0m \u001b[31m5.0 MB/s\u001b[0m eta \u001b[36m0:00:00\u001b[0m\n",
            "\u001b[?25hCollecting h11<0.15,>=0.13 (from httpcore==1.*->httpx<1,>=0.23.0->groq<1,>=0.4.1->langchain_groq)\n",
            "  Downloading h11-0.14.0-py3-none-any.whl (58 kB)\n",
            "\u001b[2K     \u001b[90m━━━━━━━━━━━━━━━━━━━━━━━━━━━━━━━━━━━━━━━━\u001b[0m \u001b[32m58.3/58.3 kB\u001b[0m \u001b[31m6.1 MB/s\u001b[0m eta \u001b[36m0:00:00\u001b[0m\n",
            "\u001b[?25hCollecting jsonpointer>=1.9 (from jsonpatch<2.0,>=1.33->langchain-core<0.3,>=0.1.45->langchain_groq)\n",
            "  Downloading jsonpointer-3.0.0-py2.py3-none-any.whl (7.6 kB)\n",
            "Collecting orjson<4.0.0,>=3.9.14 (from langsmith<0.2.0,>=0.1.75->langchain-core<0.3,>=0.1.45->langchain_groq)\n",
            "  Downloading orjson-3.10.5-cp310-cp310-manylinux_2_17_x86_64.manylinux2014_x86_64.whl (144 kB)\n",
            "\u001b[2K     \u001b[90m━━━━━━━━━━━━━━━━━━━━━━━━━━━━━━━━━━━━━━━━\u001b[0m \u001b[32m145.0/145.0 kB\u001b[0m \u001b[31m2.0 MB/s\u001b[0m eta \u001b[36m0:00:00\u001b[0m\n",
            "\u001b[?25hRequirement already satisfied: requests<3,>=2 in /usr/local/lib/python3.10/dist-packages (from langsmith<0.2.0,>=0.1.75->langchain-core<0.3,>=0.1.45->langchain_groq) (2.31.0)\n",
            "Requirement already satisfied: annotated-types>=0.4.0 in /usr/local/lib/python3.10/dist-packages (from pydantic<3,>=1.9.0->groq<1,>=0.4.1->langchain_groq) (0.7.0)\n",
            "Requirement already satisfied: pydantic-core==2.18.4 in /usr/local/lib/python3.10/dist-packages (from pydantic<3,>=1.9.0->groq<1,>=0.4.1->langchain_groq) (2.18.4)\n",
            "Requirement already satisfied: charset-normalizer<4,>=2 in /usr/local/lib/python3.10/dist-packages (from requests<3,>=2->langsmith<0.2.0,>=0.1.75->langchain-core<0.3,>=0.1.45->langchain_groq) (3.3.2)\n",
            "Requirement already satisfied: urllib3<3,>=1.21.1 in /usr/local/lib/python3.10/dist-packages (from requests<3,>=2->langsmith<0.2.0,>=0.1.75->langchain-core<0.3,>=0.1.45->langchain_groq) (2.0.7)\n",
            "Installing collected packages: orjson, jsonpointer, h11, jsonpatch, httpcore, langsmith, httpx, langchain-core, groq, langchain_groq\n",
            "Successfully installed groq-0.9.0 h11-0.14.0 httpcore-1.0.5 httpx-0.27.0 jsonpatch-1.33 jsonpointer-3.0.0 langchain-core-0.2.8 langchain_groq-0.1.5 langsmith-0.1.79 orjson-3.10.5\n"
          ]
        }
      ],
      "source": [
        "pip install langchain_groq"
      ]
    },
    {
      "cell_type": "code",
      "execution_count": 3,
      "metadata": {
        "id": "VtRdTzWQ7NbT"
      },
      "outputs": [],
      "source": [
        "from sklearn.metrics import accuracy_score, f1_score, precision_score, recall_score\n",
        "from sklearn.metrics import confusion_matrix, ConfusionMatrixDisplay\n",
        "from langchain_groq import ChatGroq\n",
        "import matplotlib.pyplot as plt\n",
        "from tqdm import tqdm\n",
        "import random"
      ]
    },
    {
      "cell_type": "code",
      "execution_count": 4,
      "metadata": {
        "id": "WNswgT_M7S06"
      },
      "outputs": [],
      "source": [
        "data = open(\"/content/ASA_LLMs/data/test_samples.tsv\",\n",
        "            encoding='utf-16').read().strip().split('\\n')\n",
        "texts = [x.split('\\t')[0] for x in data]\n",
        "labels = [int(x.split('\\t')[1]) for x in data]\n",
        "\n",
        "data = open(\"/content/ASA_LLMs/data/train_samples.tsv\",\n",
        "            encoding='utf-16').read().strip().split('\\n')\n",
        "train_texts = [x.split('\\t')[0] for x in data]\n",
        "train_labels = [int(x.split('\\t')[1]) for x in data]"
      ]
    },
    {
      "cell_type": "markdown",
      "metadata": {
        "id": "v0hnFdwKcDp0"
      },
      "source": [
        "#Zero-shot"
      ]
    },
    {
      "cell_type": "code",
      "execution_count": 5,
      "metadata": {
        "colab": {
          "base_uri": "https://localhost:8080/"
        },
        "id": "R4bA8BbJJqNk",
        "outputId": "460667a1-976b-4161-dd49-ec02fc5e9327"
      },
      "outputs": [
        {
          "output_type": "stream",
          "name": "stderr",
          "text": [
            "100%|██████████| 500/500 [18:00<00:00,  2.16s/it]\n"
          ]
        }
      ],
      "source": [
        "GROQ_API_KEY = \"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\"\n",
        "groq_llm = ChatGroq(model_name=\"gemma-7b-it\", temperature=0,\n",
        "                    api_key=GROQ_API_KEY, max_tokens=1)\n",
        "\n",
        "system_message = \"\"\"Classify the input text as 'positive' or 'negative'.\n",
        "The text will be delimited by triple backticks ``` in the input.\n",
        "Answer only with 'positive' or 'negative'.\n",
        "Do not explain your answer!\"\"\"\n",
        "user_message_template =\"Text: ```{text}```\"\n",
        "\n",
        "generated_labels = []\n",
        "for i in tqdm(range(len(texts))):\n",
        "    prompt = [{\"role\":\"system\", \"content\":system_message},\n",
        "     {\"role\":\"user\", \"content\":user_message_template.format(text=texts[i])}]\n",
        "    response = groq_llm.invoke(prompt)\n",
        "    label = 1 if response.content.lower() == 'positive' else 0\n",
        "    generated_labels.append(label)"
      ]
    },
    {
      "cell_type": "code",
      "execution_count": 6,
      "metadata": {
        "colab": {
          "base_uri": "https://localhost:8080/"
        },
        "id": "PtpFrp2TJrhQ",
        "outputId": "416c58ed-8501-4768-e435-8465600325eb"
      },
      "outputs": [
        {
          "output_type": "stream",
          "name": "stdout",
          "text": [
            "\n",
            "Acc: 75.80%\n",
            "Pre: 76.76%\n",
            "Rec: 74.00%\n",
            "F1s: 75.36%\n"
          ]
        }
      ],
      "source": [
        "acc = accuracy_score(labels, generated_labels)\n",
        "pre = precision_score(labels, generated_labels)\n",
        "rec = recall_score(labels, generated_labels)\n",
        "f1s = f1_score(labels, generated_labels)\n",
        "\n",
        "print(f'\\nAcc: {acc*100:.2f}%\\nPre: {pre*100:.2f}%\\nRec: {rec*100:.2f}%\\nF1s: {f1s*100:.2f}%')"
      ]
    },
    {
      "cell_type": "code",
      "execution_count": 7,
      "metadata": {
        "colab": {
          "base_uri": "https://localhost:8080/",
          "height": 449
        },
        "id": "JR5BgxjdWiXj",
        "outputId": "d23dcc11-bd9f-4245-8400-d75ffcc0061f"
      },
      "outputs": [
        {
          "output_type": "display_data",
          "data": {
            "text/plain": [
              "<Figure size 640x480 with 2 Axes>"
            ],
            "image/png": "[encoded data removed]"
          },
          "metadata": {}
        }
      ],
      "source": [
        "cm = confusion_matrix(labels, generated_labels)\n",
        "disp = ConfusionMatrixDisplay(confusion_matrix=cm)\n",
        "disp.plot()\n",
        "plt.show()"
      ]
    },
    {
      "cell_type": "markdown",
      "metadata": {
        "id": "z_efHz7mcGie"
      },
      "source": [
        "#Few-shot"
      ]
    },
    {
      "cell_type": "code",
      "execution_count": 8,
      "metadata": {
        "id": "ltXOQfwqeuDX"
      },
      "outputs": [],
      "source": [
        "def create_examples(positive_reviews, negative_reviews, n=4):\n",
        "    examples = []\n",
        "    positive_examples = random.sample(positive_reviews, n)\n",
        "    negative_examples = random.sample(negative_reviews, n)\n",
        "\n",
        "    for i in range(n):\n",
        "        examples.append({'text': positive_examples[i], 'sentiment': 'positive'})\n",
        "        examples.append({'text': negative_examples[i], 'sentiment': 'negative'})\n",
        "    return examples\n",
        "\n",
        "def create_prompt(system_message, examples, user_message_template):\n",
        "    prompt = [{'role':'system', 'content':system_message}]\n",
        "    for example in examples:\n",
        "        example_review = example['text']\n",
        "        example_sentiment = example['sentiment']\n",
        "        prompt.append({'role':'user', 'content':user_message_template.format(\n",
        "            text=example_review\n",
        "        )})\n",
        "        prompt.append({'role':'assistant', 'content':f\"{example_sentiment}\"})\n",
        "    return prompt"
      ]
    },
    {
      "cell_type": "markdown",
      "metadata": {
        "id": "Y4umRLexcOck"
      },
      "source": [
        "##1-shot"
      ]
    },
    {
      "cell_type": "code",
      "execution_count": 13,
      "metadata": {
        "colab": {
          "base_uri": "https://localhost:8080/"
        },
        "id": "wKuTaGl4cV8i",
        "outputId": "938af397-b210-4563-9638-69612368833b"
      },
      "outputs": [
        {
          "output_type": "stream",
          "name": "stderr",
          "text": [
            "100%|██████████| 500/500 [19:07<00:00,  2.30s/it]\n"
          ]
        }
      ],
      "source": [
        "GROQ_API_KEY = \"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\"\n",
        "groq_llm = ChatGroq(model_name=\"gemma-7b-it\", temperature=0,\n",
        "                    api_key=GROQ_API_KEY, max_tokens=1)\n",
        "\n",
        "positive_reviews = [train_texts[i] for i in range(len(train_texts)) if train_labels[i] == 1]\n",
        "negative_reviews = [train_texts[i] for i in range(len(train_texts)) if train_labels[i] == 0]\n",
        "examples = create_examples(positive_reviews, negative_reviews, 1)\n",
        "\n",
        "system_message = \"\"\"Classify the input text as 'positive' or 'negative'.\n",
        "The text will be delimited by triple backticks ``` in the input.\n",
        "Answer only with 'positive' or 'negative'.\n",
        "Do not explain your answer!\"\"\"\n",
        "user_message_template =\"Text: ```{text}```\"\n",
        "\n",
        "generated_labels = []\n",
        "for i in tqdm(range(len(texts))):\n",
        "    prompt = create_prompt(system_message, examples, user_message_template)\n",
        "    prompt.append({\"role\":\"user\",\n",
        "                   \"content\":user_message_template.format(text=texts[i])})\n",
        "    response = groq_llm.invoke(prompt)\n",
        "    label = 1 if response.content.lower() == 'positive' else 0\n",
        "    generated_labels.append(label)"
      ]
    },
    {
      "cell_type": "code",
      "execution_count": 14,
      "metadata": {
        "colab": {
          "base_uri": "https://localhost:8080/"
        },
        "id": "B_SUGCSUcV49",
        "outputId": "8e1ec05c-ec99-4397-edd4-b6f3b31093e9"
      },
      "outputs": [
        {
          "output_type": "stream",
          "name": "stdout",
          "text": [
            "\n",
            "Acc: 75.20%\n",
            "Pre: 84.62%\n",
            "Rec: 61.60%\n",
            "F1s: 71.30%\n"
          ]
        }
      ],
      "source": [
        "acc = accuracy_score(labels, generated_labels)\n",
        "pre = precision_score(labels, generated_labels)\n",
        "rec = recall_score(labels, generated_labels)\n",
        "f1s = f1_score(labels, generated_labels)\n",
        "\n",
        "print(f'\\nAcc: {acc*100:.2f}%\\nPre: {pre*100:.2f}%\\nRec: {rec*100:.2f}%\\nF1s: {f1s*100:.2f}%')"
      ]
    },
    {
      "cell_type": "code",
      "source": [
        "cm = confusion_matrix(labels, generated_labels)\n",
        "disp = ConfusionMatrixDisplay(confusion_matrix=cm)\n",
        "disp.plot()\n",
        "plt.show()"
      ],
      "metadata": {
        "colab": {
          "base_uri": "https://localhost:8080/",
          "height": 449
        },
        "id": "SkJIPmL4bgZB",
        "outputId": "6e0d181c-d25e-449a-d838-d3fb4c561ab3"
      },
      "execution_count": 15,
      "outputs": [
        {
          "output_type": "display_data",
          "data": {
            "text/plain": [
              "<Figure size 640x480 with 2 Axes>"
            ],
            "image/png": "[encoded data removed]"
          },
          "metadata": {}
        }
      ]
    },
    {
      "cell_type": "markdown",
      "metadata": {
        "id": "CPUzFqx-cQb6"
      },
      "source": [
        "##2-shot"
      ]
    },
    {
      "cell_type": "code",
      "execution_count": 18,
      "metadata": {
        "colab": {
          "base_uri": "https://localhost:8080/"
        },
        "id": "WQ6I6KgPcWru",
        "outputId": "8762076c-cecc-49b5-8998-ca7247980f7a"
      },
      "outputs": [
        {
          "output_type": "stream",
          "name": "stderr",
          "text": [
            "100%|██████████| 500/500 [19:26<00:00,  2.33s/it]\n"
          ]
        }
      ],
      "source": [
        "GROQ_API_KEY = \"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\"\n",
        "groq_llm = ChatGroq(model_name=\"gemma-7b-it\", temperature=0,\n",
        "                    api_key=GROQ_API_KEY, max_tokens=1)\n",
        "\n",
        "positive_reviews = [train_texts[i] for i in range(len(train_texts)) if train_labels[i] == 1]\n",
        "negative_reviews = [train_texts[i] for i in range(len(train_texts)) if train_labels[i] == 0]\n",
        "examples = create_examples(positive_reviews, negative_reviews, 2)\n",
        "\n",
        "system_message = \"\"\"Classify the input text as 'positive' or 'negative'.\n",
        "The text will be delimited by triple backticks ``` in the input.\n",
        "Answer only with 'positive' or 'negative'.\n",
        "Do not explain your answer!\"\"\"\n",
        "user_message_template =\"Text: ```{text}```\"\n",
        "\n",
        "generated_labels = []\n",
        "for i in tqdm(range(len(texts))):\n",
        "    prompt = create_prompt(system_message, examples, user_message_template)\n",
        "    prompt.append({\"role\":\"user\",\n",
        "                   \"content\":user_message_template.format(text=texts[i])})\n",
        "    response = groq_llm.invoke(prompt)\n",
        "    label = 1 if response.content.lower() == 'positive' else 0\n",
        "    generated_labels.append(label)"
      ]
    },
    {
      "cell_type": "code",
      "execution_count": 19,
      "metadata": {
        "colab": {
          "base_uri": "https://localhost:8080/"
        },
        "id": "XRbb-L5XcWoC",
        "outputId": "b9fcc6ed-a416-44b0-c536-a61c7c10ade1"
      },
      "outputs": [
        {
          "output_type": "stream",
          "name": "stdout",
          "text": [
            "\n",
            "Acc: 76.40%\n",
            "Pre: 82.35%\n",
            "Rec: 67.20%\n",
            "F1s: 74.01%\n"
          ]
        }
      ],
      "source": [
        "acc = accuracy_score(labels, generated_labels)\n",
        "pre = precision_score(labels, generated_labels)\n",
        "rec = recall_score(labels, generated_labels)\n",
        "f1s = f1_score(labels, generated_labels)\n",
        "\n",
        "print(f'\\nAcc: {acc*100:.2f}%\\nPre: {pre*100:.2f}%\\nRec: {rec*100:.2f}%\\nF1s: {f1s*100:.2f}%')"
      ]
    },
    {
      "cell_type": "code",
      "source": [
        "cm = confusion_matrix(labels, generated_labels)\n",
        "disp = ConfusionMatrixDisplay(confusion_matrix=cm)\n",
        "disp.plot()\n",
        "plt.show()"
      ],
      "metadata": {
        "colab": {
          "base_uri": "https://localhost:8080/",
          "height": 449
        },
        "id": "yaaxqgbvfobf",
        "outputId": "12d5f39d-b0c7-43e3-ea08-20917ac021bf"
      },
      "execution_count": 20,
      "outputs": [
        {
          "output_type": "display_data",
          "data": {
            "text/plain": [
              "<Figure size 640x480 with 2 Axes>"
            ],
            "image/png": "[encoded data removed]"
          },
          "metadata": {}
        }
      ]
    },
    {
      "cell_type": "markdown",
      "metadata": {
        "id": "SMAoWF4tcQO5"
      },
      "source": [
        "##3-shot"
      ]
    },
    {
      "cell_type": "code",
      "execution_count": 21,
      "metadata": {
        "colab": {
          "base_uri": "https://localhost:8080/"
        },
        "id": "dIvL98W_cXNO",
        "outputId": "98deb3d1-839d-466e-d421-f7dd89638b6f"
      },
      "outputs": [
        {
          "output_type": "stream",
          "name": "stderr",
          "text": [
            "100%|██████████| 500/500 [20:06<00:00,  2.41s/it]\n"
          ]
        }
      ],
      "source": [
        "GROQ_API_KEY = \"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\"\n",
        "groq_llm = ChatGroq(model_name=\"gemma-7b-it\", temperature=0,\n",
        "                    api_key=GROQ_API_KEY, max_tokens=1)\n",
        "\n",
        "positive_reviews = [train_texts[i] for i in range(len(train_texts)) if train_labels[i] == 1]\n",
        "negative_reviews = [train_texts[i] for i in range(len(train_texts)) if train_labels[i] == 0]\n",
        "examples = create_examples(positive_reviews, negative_reviews, 3)\n",
        "\n",
        "system_message = \"\"\"Classify the input text as 'positive' or 'negative'.\n",
        "The text will be delimited by triple backticks ``` in the input.\n",
        "Answer only with 'positive' or 'negative'.\n",
        "Do not explain your answer!\"\"\"\n",
        "user_message_template =\"Text: ```{text}```\"\n",
        "\n",
        "generated_labels = []\n",
        "for i in tqdm(range(len(texts))):\n",
        "    prompt = create_prompt(system_message, examples, user_message_template)\n",
        "    prompt.append({\"role\":\"user\",\n",
        "                   \"content\":user_message_template.format(text=texts[i])})\n",
        "    response = groq_llm.invoke(prompt)\n",
        "    label = 1 if response.content.lower() == 'positive' else 0\n",
        "    generated_labels.append(label)"
      ]
    },
    {
      "cell_type": "code",
      "execution_count": 22,
      "metadata": {
        "colab": {
          "base_uri": "https://localhost:8080/"
        },
        "id": "ZVpjNcIycPyQ",
        "outputId": "c89eff8d-2170-4856-d64a-f25f23fe4b7b"
      },
      "outputs": [
        {
          "output_type": "stream",
          "name": "stdout",
          "text": [
            "\n",
            "Acc: 77.40%\n",
            "Pre: 82.78%\n",
            "Rec: 69.20%\n",
            "F1s: 75.38%\n"
          ]
        }
      ],
      "source": [
        "acc = accuracy_score(labels, generated_labels)\n",
        "pre = precision_score(labels, generated_labels)\n",
        "rec = recall_score(labels, generated_labels)\n",
        "f1s = f1_score(labels, generated_labels)\n",
        "\n",
        "print(f'\\nAcc: {acc*100:.2f}%\\nPre: {pre*100:.2f}%\\nRec: {rec*100:.2f}%\\nF1s: {f1s*100:.2f}%')"
      ]
    },
    {
      "cell_type": "code",
      "source": [
        "cm = confusion_matrix(labels, generated_labels)\n",
        "disp = ConfusionMatrixDisplay(confusion_matrix=cm)\n",
        "disp.plot()\n",
        "plt.show()"
      ],
      "metadata": {
        "colab": {
          "base_uri": "https://localhost:8080/",
          "height": 449
        },
        "id": "762Hdj8lfpkZ",
        "outputId": "b972fd99-929c-413e-f7cd-301398bdd582"
      },
      "execution_count": 23,
      "outputs": [
        {
          "output_type": "display_data",
          "data": {
            "text/plain": [
              "<Figure size 640x480 with 2 Axes>"
            ],
            "image/png": "[encoded data removed]"
          },
          "metadata": {}
        }
      ]
    },
    {
      "cell_type": "code",
      "source": [],
      "metadata": {
        "id": "IBzVBLCZ9rSY"
      },
      "execution_count": null,
      "outputs": []
    }
  ],
  "metadata": {
    "colab": {
      "provenance": [],
      "collapsed_sections": [
        "v0hnFdwKcDp0"
      ],
      "authorship_tag": "ABX9TyODU3kRpFxzjCqyjjVCvj6P",
      "include_colab_link": true
    },
    "kernelspec": {
      "display_name": "Python 3",
      "name": "python3"
    },
    "language_info": {
      "name": "python"
    }
  },
  "nbformat": 4,
  "nbformat_minor": 0
}