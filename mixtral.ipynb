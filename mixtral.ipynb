{
  "cells": [
    {
      "cell_type": "markdown",
      "metadata": {
        "id": "view-in-github",
        "colab_type": "text"
      },
      "source": [
        "<a href=\"https://colab.research.google.com/github/zouidine/ASA_LLMs/blob/master/mixtral.ipynb\" target=\"_parent\"><img src=\"https://colab.research.google.com/assets/colab-badge.svg\" alt=\"Open In Colab\"/></a>"
      ]
    },
    {
      "cell_type": "code",
      "execution_count": 1,
      "metadata": {
        "colab": {
          "base_uri": "https://localhost:8080/"
        },
        "id": "PK2fdQ4h7Cqj",
        "outputId": "54fcc0fc-a94f-4850-9292-598d617d362b"
      },
      "outputs": [
        {
          "output_type": "stream",
          "name": "stdout",
          "text": [
            "Cloning into 'ASA_LLMs'...\n",
            "remote: Enumerating objects: 81, done.\u001b[K\n",
            "remote: Counting objects: 100% (44/44), done.\u001b[K\n",
            "remote: Compressing objects: 100% (31/31), done.\u001b[K\n",
            "remote: Total 81 (delta 15), reused 33 (delta 9), pack-reused 37\u001b[K\n",
            "Receiving objects: 100% (81/81), 13.32 MiB | 10.31 MiB/s, done.\n",
            "Resolving deltas: 100% (27/27), done.\n"
          ]
        }
      ],
      "source": [
        "!git clone https://github.com/zouidine/ASA_LLMs.git"
      ]
    },
    {
      "cell_type": "code",
      "execution_count": 2,
      "metadata": {
        "colab": {
          "base_uri": "https://localhost:8080/"
        },
        "id": "aDVICE6n7LOt",
        "outputId": "1c776781-03c1-4bf5-d3fb-c5ba5ebddca9"
      },
      "outputs": [
        {
          "output_type": "stream",
          "name": "stdout",
          "text": [
            "Collecting langchain_groq\n",
            "  Downloading langchain_groq-0.1.5-py3-none-any.whl (11 kB)\n",
            "Collecting groq<1,>=0.4.1 (from langchain_groq)\n",
            "  Downloading groq-0.9.0-py3-none-any.whl (103 kB)\n",
            "\u001b[2K     \u001b[90m━━━━━━━━━━━━━━━━━━━━━━━━━━━━━━━━━━━━━━━━\u001b[0m \u001b[32m103.5/103.5 kB\u001b[0m \u001b[31m1.4 MB/s\u001b[0m eta \u001b[36m0:00:00\u001b[0m\n",
            "\u001b[?25hCollecting langchain-core<0.3,>=0.1.45 (from langchain_groq)\n",
            "  Downloading langchain_core-0.2.9-py3-none-any.whl (321 kB)\n",
            "\u001b[2K     \u001b[90m━━━━━━━━━━━━━━━━━━━━━━━━━━━━━━━━━━━━━━━━\u001b[0m \u001b[32m321.8/321.8 kB\u001b[0m \u001b[31m13.1 MB/s\u001b[0m eta \u001b[36m0:00:00\u001b[0m\n",
            "\u001b[?25hRequirement already satisfied: anyio<5,>=3.5.0 in /usr/local/lib/python3.10/dist-packages (from groq<1,>=0.4.1->langchain_groq) (3.7.1)\n",
            "Requirement already satisfied: distro<2,>=1.7.0 in /usr/lib/python3/dist-packages (from groq<1,>=0.4.1->langchain_groq) (1.7.0)\n",
            "Collecting httpx<1,>=0.23.0 (from groq<1,>=0.4.1->langchain_groq)\n",
            "  Downloading httpx-0.27.0-py3-none-any.whl (75 kB)\n",
            "\u001b[2K     \u001b[90m━━━━━━━━━━━━━━━━━━━━━━━━━━━━━━━━━━━━━━━━\u001b[0m \u001b[32m75.6/75.6 kB\u001b[0m \u001b[31m3.4 MB/s\u001b[0m eta \u001b[36m0:00:00\u001b[0m\n",
            "\u001b[?25hRequirement already satisfied: pydantic<3,>=1.9.0 in /usr/local/lib/python3.10/dist-packages (from groq<1,>=0.4.1->langchain_groq) (2.7.3)\n",
            "Requirement already satisfied: sniffio in /usr/local/lib/python3.10/dist-packages (from groq<1,>=0.4.1->langchain_groq) (1.3.1)\n",
            "Requirement already satisfied: typing-extensions<5,>=4.7 in /usr/local/lib/python3.10/dist-packages (from groq<1,>=0.4.1->langchain_groq) (4.12.2)\n",
            "Requirement already satisfied: PyYAML>=5.3 in /usr/local/lib/python3.10/dist-packages (from langchain-core<0.3,>=0.1.45->langchain_groq) (6.0.1)\n",
            "Collecting jsonpatch<2.0,>=1.33 (from langchain-core<0.3,>=0.1.45->langchain_groq)\n",
            "  Downloading jsonpatch-1.33-py2.py3-none-any.whl (12 kB)\n",
            "Collecting langsmith<0.2.0,>=0.1.75 (from langchain-core<0.3,>=0.1.45->langchain_groq)\n",
            "  Downloading langsmith-0.1.81-py3-none-any.whl (127 kB)\n",
            "\u001b[2K     \u001b[90m━━━━━━━━━━━━━━━━━━━━━━━━━━━━━━━━━━━━━━━━\u001b[0m \u001b[32m127.1/127.1 kB\u001b[0m \u001b[31m4.8 MB/s\u001b[0m eta \u001b[36m0:00:00\u001b[0m\n",
            "\u001b[?25hRequirement already satisfied: packaging<25,>=23.2 in /usr/local/lib/python3.10/dist-packages (from langchain-core<0.3,>=0.1.45->langchain_groq) (24.1)\n",
            "Requirement already satisfied: tenacity!=8.4.0,<9.0.0,>=8.1.0 in /usr/local/lib/python3.10/dist-packages (from langchain-core<0.3,>=0.1.45->langchain_groq) (8.3.0)\n",
            "Requirement already satisfied: idna>=2.8 in /usr/local/lib/python3.10/dist-packages (from anyio<5,>=3.5.0->groq<1,>=0.4.1->langchain_groq) (3.7)\n",
            "Requirement already satisfied: exceptiongroup in /usr/local/lib/python3.10/dist-packages (from anyio<5,>=3.5.0->groq<1,>=0.4.1->langchain_groq) (1.2.1)\n",
            "Requirement already satisfied: certifi in /usr/local/lib/python3.10/dist-packages (from httpx<1,>=0.23.0->groq<1,>=0.4.1->langchain_groq) (2024.6.2)\n",
            "Collecting httpcore==1.* (from httpx<1,>=0.23.0->groq<1,>=0.4.1->langchain_groq)\n",
            "  Downloading httpcore-1.0.5-py3-none-any.whl (77 kB)\n",
            "\u001b[2K     \u001b[90m━━━━━━━━━━━━━━━━━━━━━━━━━━━━━━━━━━━━━━━━\u001b[0m \u001b[32m77.9/77.9 kB\u001b[0m \u001b[31m4.2 MB/s\u001b[0m eta \u001b[36m0:00:00\u001b[0m\n",
            "\u001b[?25hCollecting h11<0.15,>=0.13 (from httpcore==1.*->httpx<1,>=0.23.0->groq<1,>=0.4.1->langchain_groq)\n",
            "  Downloading h11-0.14.0-py3-none-any.whl (58 kB)\n",
            "\u001b[2K     \u001b[90m━━━━━━━━━━━━━━━━━━━━━━━━━━━━━━━━━━━━━━━━\u001b[0m \u001b[32m58.3/58.3 kB\u001b[0m \u001b[31m3.0 MB/s\u001b[0m eta \u001b[36m0:00:00\u001b[0m\n",
            "\u001b[?25hCollecting jsonpointer>=1.9 (from jsonpatch<2.0,>=1.33->langchain-core<0.3,>=0.1.45->langchain_groq)\n",
            "  Downloading jsonpointer-3.0.0-py2.py3-none-any.whl (7.6 kB)\n",
            "Collecting orjson<4.0.0,>=3.9.14 (from langsmith<0.2.0,>=0.1.75->langchain-core<0.3,>=0.1.45->langchain_groq)\n",
            "  Downloading orjson-3.10.5-cp310-cp310-manylinux_2_17_x86_64.manylinux2014_x86_64.whl (144 kB)\n",
            "\u001b[2K     \u001b[90m━━━━━━━━━━━━━━━━━━━━━━━━━━━━━━━━━━━━━━━━\u001b[0m \u001b[32m145.0/145.0 kB\u001b[0m \u001b[31m1.3 MB/s\u001b[0m eta \u001b[36m0:00:00\u001b[0m\n",
            "\u001b[?25hRequirement already satisfied: requests<3,>=2 in /usr/local/lib/python3.10/dist-packages (from langsmith<0.2.0,>=0.1.75->langchain-core<0.3,>=0.1.45->langchain_groq) (2.31.0)\n",
            "Requirement already satisfied: annotated-types>=0.4.0 in /usr/local/lib/python3.10/dist-packages (from pydantic<3,>=1.9.0->groq<1,>=0.4.1->langchain_groq) (0.7.0)\n",
            "Requirement already satisfied: pydantic-core==2.18.4 in /usr/local/lib/python3.10/dist-packages (from pydantic<3,>=1.9.0->groq<1,>=0.4.1->langchain_groq) (2.18.4)\n",
            "Requirement already satisfied: charset-normalizer<4,>=2 in /usr/local/lib/python3.10/dist-packages (from requests<3,>=2->langsmith<0.2.0,>=0.1.75->langchain-core<0.3,>=0.1.45->langchain_groq) (3.3.2)\n",
            "Requirement already satisfied: urllib3<3,>=1.21.1 in /usr/local/lib/python3.10/dist-packages (from requests<3,>=2->langsmith<0.2.0,>=0.1.75->langchain-core<0.3,>=0.1.45->langchain_groq) (2.0.7)\n",
            "Installing collected packages: orjson, jsonpointer, h11, jsonpatch, httpcore, langsmith, httpx, langchain-core, groq, langchain_groq\n",
            "Successfully installed groq-0.9.0 h11-0.14.0 httpcore-1.0.5 httpx-0.27.0 jsonpatch-1.33 jsonpointer-3.0.0 langchain-core-0.2.9 langchain_groq-0.1.5 langsmith-0.1.81 orjson-3.10.5\n"
          ]
        }
      ],
      "source": [
        "pip install langchain_groq"
      ]
    },
    {
      "cell_type": "code",
      "execution_count": 3,
      "metadata": {
        "id": "VtRdTzWQ7NbT"
      },
      "outputs": [],
      "source": [
        "from sklearn.metrics import accuracy_score, f1_score, precision_score, recall_score\n",
        "from sklearn.metrics import confusion_matrix, ConfusionMatrixDisplay\n",
        "from langchain_groq import ChatGroq\n",
        "import matplotlib.pyplot as plt\n",
        "from tqdm import tqdm\n",
        "import random"
      ]
    },
    {
      "cell_type": "code",
      "execution_count": 4,
      "metadata": {
        "id": "WNswgT_M7S06"
      },
      "outputs": [],
      "source": [
        "data = open(\"/content/ASA_LLMs/data/test_samples.tsv\",\n",
        "            encoding='utf-16').read().strip().split('\\n')\n",
        "texts = [x.split('\\t')[0] for x in data]\n",
        "labels = [int(x.split('\\t')[1]) for x in data]\n",
        "\n",
        "data = open(\"/content/ASA_LLMs/data/train_samples.tsv\",\n",
        "            encoding='utf-16').read().strip().split('\\n')\n",
        "train_texts = [x.split('\\t')[0] for x in data]\n",
        "train_labels = [int(x.split('\\t')[1]) for x in data]"
      ]
    },
    {
      "cell_type": "markdown",
      "metadata": {
        "id": "7z0SfMq2ySkl"
      },
      "source": [
        "#Zero-shot"
      ]
    },
    {
      "cell_type": "code",
      "execution_count": 9,
      "metadata": {
        "colab": {
          "base_uri": "https://localhost:8080/"
        },
        "id": "0JC8wBVj9WxT",
        "outputId": "2e23b59d-a7b9-4dba-db53-958ade1dd957"
      },
      "outputs": [
        {
          "output_type": "stream",
          "name": "stderr",
          "text": [
            "100%|██████████| 500/500 [20:00<00:00,  2.40s/it]\n"
          ]
        }
      ],
      "source": [
        "GROQ_API_KEY = \"YOUR_GROQ_API_KEY\"\n",
        "groq_llm = ChatGroq(model_name=\"mixtral-8x7b-32768\", temperature=0,\n",
        "                    api_key=GROQ_API_KEY, max_tokens=1)\n",
        "\n",
        "system_message = \"\"\"Classify the input text as 'positive' or 'negative'.\n",
        "The text will be delimited by triple backticks ``` in the input.\n",
        "Answer only with 'positive' or 'negative'.\n",
        "Do not explain your answer!\"\"\"\n",
        "user_message_template =\"Text: ```{text}```\"\n",
        "\n",
        "generated_labels = []\n",
        "for i in tqdm(range(len(texts))):\n",
        "    zero_shot_prompt = [{\"role\":\"system\", \"content\":system_message},\n",
        "     {\"role\":\"user\", \"content\":user_message_template.format(text= texts[i])}]\n",
        "    response = groq_llm.invoke(zero_shot_prompt)\n",
        "    label = 1 if response.content.lower() == 'positive' else 0\n",
        "    generated_labels.append(label)"
      ]
    },
    {
      "cell_type": "code",
      "execution_count": 10,
      "metadata": {
        "colab": {
          "base_uri": "https://localhost:8080/"
        },
        "id": "bkkrh6yLE7fK",
        "outputId": "51a2b80d-63bc-43c4-e7c4-dc1d05d19f4b"
      },
      "outputs": [
        {
          "output_type": "stream",
          "name": "stdout",
          "text": [
            "\n",
            "Acc: 69.80%\n",
            "Pre: 83.67%\n",
            "Rec: 49.20%\n",
            "F1s: 61.96%\n"
          ]
        }
      ],
      "source": [
        "acc = accuracy_score(labels, generated_labels)\n",
        "pre = precision_score(labels, generated_labels)\n",
        "rec = recall_score(labels, generated_labels)\n",
        "f1s = f1_score(labels, generated_labels)\n",
        "\n",
        "print(f'\\nAcc: {acc*100:.2f}%\\nPre: {pre*100:.2f}%\\nRec: {rec*100:.2f}%\\nF1s: {f1s*100:.2f}%')"
      ]
    },
    {
      "cell_type": "code",
      "source": [
        "cm = confusion_matrix(labels, generated_labels)\n",
        "disp = ConfusionMatrixDisplay(confusion_matrix=cm)\n",
        "disp.plot()\n",
        "plt.show()"
      ],
      "metadata": {
        "colab": {
          "base_uri": "https://localhost:8080/",
          "height": 453
        },
        "id": "mX8YPBT7iKwq",
        "outputId": "bd26be1a-55c8-47fb-ac62-06d4fe135e9a"
      },
      "execution_count": 11,
      "outputs": [
        {
          "output_type": "display_data",
          "data": {
            "text/plain": [
              "<Figure size 640x480 with 2 Axes>"
            ],
            "image/png": "[encoded data removed]"
          },
          "metadata": {}
        }
      ]
    },
    {
      "cell_type": "markdown",
      "metadata": {
        "id": "EWQuikUlyV4V"
      },
      "source": [
        "#Few-shot"
      ]
    },
    {
      "cell_type": "code",
      "execution_count": 5,
      "metadata": {
        "id": "OwuqQZI8Sa4L"
      },
      "outputs": [],
      "source": [
        "def create_examples(positive_reviews, negative_reviews, n=4):\n",
        "    examples = []\n",
        "    positive_examples = random.sample(positive_reviews, n)\n",
        "    negative_examples = random.sample(negative_reviews, n)\n",
        "\n",
        "    for i in range(n):\n",
        "        examples.append({'text': positive_examples[i], 'sentiment': 'positive'})\n",
        "        examples.append({'text': negative_examples[i], 'sentiment': 'negative'})\n",
        "    return examples\n",
        "\n",
        "def create_prompt(system_message, examples, user_message_template):\n",
        "    few_shot_prompt = [{'role':'system', 'content':system_message}]\n",
        "    for example in examples:\n",
        "        example_review = example['text']\n",
        "        example_sentiment = example['sentiment']\n",
        "        few_shot_prompt.append(\n",
        "            {'role':'user',\n",
        "             'content':user_message_template.format(text=example_review)}\n",
        "        )\n",
        "        few_shot_prompt.append(\n",
        "            {'role':'assistant', 'content':f\"{example_sentiment}\"}\n",
        "        )\n",
        "    return few_shot_prompt"
      ]
    },
    {
      "cell_type": "markdown",
      "metadata": {
        "id": "sV2w7d-DyYfg"
      },
      "source": [
        "##1-shot"
      ]
    },
    {
      "cell_type": "code",
      "execution_count": 6,
      "metadata": {
        "colab": {
          "base_uri": "https://localhost:8080/"
        },
        "id": "uFiRAiDfSbjp",
        "outputId": "cfd0739a-cc78-43e4-ae5e-b4d612d637ff"
      },
      "outputs": [
        {
          "output_type": "stream",
          "name": "stderr",
          "text": [
            "100%|██████████| 500/500 [29:55<00:00,  3.59s/it]\n"
          ]
        }
      ],
      "source": [
        "GROQ_API_KEY = \"YOUR_GROQ_API_KEY\"\n",
        "groq_llm = ChatGroq(model_name=\"mixtral-8x7b-32768\", temperature=0,\n",
        "                    api_key=GROQ_API_KEY, max_tokens=1)\n",
        "\n",
        "positive_reviews = [train_texts[i] for i in range(len(train_texts)) if train_labels[i] == 1]\n",
        "negative_reviews = [train_texts[i] for i in range(len(train_texts)) if train_labels[i] == 0]\n",
        "examples = create_examples(positive_reviews, negative_reviews, 1)\n",
        "\n",
        "system_message = \"\"\"Classify the input text as 'positive' or 'negative'.\n",
        "The text will be delimited by triple backticks ``` in the input.\n",
        "Answer only with 'positive' or 'negative'.\n",
        "Do not explain your answer!\"\"\"\n",
        "user_message_template =\"Text: ```{text}```\"\n",
        "\n",
        "generated_labels = []\n",
        "for i in tqdm(range(len(texts))):\n",
        "    prompt = create_prompt(system_message, examples, user_message_template)\n",
        "    prompt.append({\"role\":\"user\",\n",
        "                   \"content\":user_message_template.format(text=texts[i])})\n",
        "    response = groq_llm.invoke(prompt)\n",
        "    label = 1 if response.content.lower() == 'positive' else 0\n",
        "    generated_labels.append(label)"
      ]
    },
    {
      "cell_type": "code",
      "execution_count": 7,
      "metadata": {
        "colab": {
          "base_uri": "https://localhost:8080/"
        },
        "id": "g3U3UyMdSmwk",
        "outputId": "923f26d9-e794-4422-90c2-b7dfadd5b607"
      },
      "outputs": [
        {
          "output_type": "stream",
          "name": "stdout",
          "text": [
            "\n",
            "Acc: 81.20%\n",
            "Pre: 78.89%\n",
            "Rec: 85.20%\n",
            "F1s: 81.92%\n"
          ]
        }
      ],
      "source": [
        "acc = accuracy_score(labels, generated_labels)\n",
        "pre = precision_score(labels, generated_labels)\n",
        "rec = recall_score(labels, generated_labels)\n",
        "f1s = f1_score(labels, generated_labels)\n",
        "\n",
        "print(f'\\nAcc: {acc*100:.2f}%\\nPre: {pre*100:.2f}%\\nRec: {rec*100:.2f}%\\nF1s: {f1s*100:.2f}%')"
      ]
    },
    {
      "cell_type": "code",
      "source": [
        "cm = confusion_matrix(labels, generated_labels)\n",
        "disp = ConfusionMatrixDisplay(confusion_matrix=cm)\n",
        "disp.plot()\n",
        "plt.show()"
      ],
      "metadata": {
        "colab": {
          "base_uri": "https://localhost:8080/",
          "height": 449
        },
        "id": "a7bTZOs3jILg",
        "outputId": "5362bd76-e77e-46ef-eb8d-c300f9fd5067"
      },
      "execution_count": 8,
      "outputs": [
        {
          "output_type": "display_data",
          "data": {
            "text/plain": [
              "<Figure size 640x480 with 2 Axes>"
            ],
            "image/png": "[encoded data removed]"
          },
          "metadata": {}
        }
      ]
    },
    {
      "cell_type": "markdown",
      "metadata": {
        "id": "qj1_gYrOyyqg"
      },
      "source": [
        "##2-shot"
      ]
    },
    {
      "cell_type": "code",
      "execution_count": 9,
      "metadata": {
        "colab": {
          "base_uri": "https://localhost:8080/"
        },
        "id": "gRmSdVs_y0uK",
        "outputId": "07793f29-c945-4ac6-eb29-8240ab217301"
      },
      "outputs": [
        {
          "output_type": "stream",
          "name": "stderr",
          "text": [
            "100%|██████████| 500/500 [45:53<00:00,  5.51s/it]\n"
          ]
        }
      ],
      "source": [
        "GROQ_API_KEY = \"YOUR_GROQ_API_KEY\"\n",
        "groq_llm = ChatGroq(model_name=\"mixtral-8x7b-32768\", temperature=0,\n",
        "                    api_key=GROQ_API_KEY, max_tokens=1)\n",
        "\n",
        "positive_reviews = [train_texts[i] for i in range(len(train_texts)) if train_labels[i] == 1]\n",
        "negative_reviews = [train_texts[i] for i in range(len(train_texts)) if train_labels[i] == 0]\n",
        "examples = create_examples(positive_reviews, negative_reviews, 2)\n",
        "\n",
        "system_message = \"\"\"Classify the input text as 'positive' or 'negative'.\n",
        "The text will be delimited by triple backticks ``` in the input.\n",
        "Answer only with 'positive' or 'negative'.\n",
        "Do not explain your answer!\"\"\"\n",
        "user_message_template =\"Text: ```{text}```\"\n",
        "\n",
        "generated_labels = []\n",
        "for i in tqdm(range(len(texts))):\n",
        "    prompt = create_prompt(system_message, examples, user_message_template)\n",
        "    prompt.append({\"role\":\"user\",\n",
        "                   \"content\":user_message_template.format(text=texts[i])})\n",
        "    response = groq_llm.invoke(prompt)\n",
        "    label = 1 if response.content.lower() == 'positive' else 0\n",
        "    generated_labels.append(label)"
      ]
    },
    {
      "cell_type": "code",
      "execution_count": 10,
      "metadata": {
        "colab": {
          "base_uri": "https://localhost:8080/"
        },
        "id": "2pMExPewy0px",
        "outputId": "eefe1504-9f02-4c97-894f-f810d7a5a4a8"
      },
      "outputs": [
        {
          "output_type": "stream",
          "name": "stdout",
          "text": [
            "\n",
            "Acc: 82.40%\n",
            "Pre: 79.78%\n",
            "Rec: 86.80%\n",
            "F1s: 83.14%\n"
          ]
        }
      ],
      "source": [
        "acc = accuracy_score(labels, generated_labels)\n",
        "pre = precision_score(labels, generated_labels)\n",
        "rec = recall_score(labels, generated_labels)\n",
        "f1s = f1_score(labels, generated_labels)\n",
        "\n",
        "print(f'\\nAcc: {acc*100:.2f}%\\nPre: {pre*100:.2f}%\\nRec: {rec*100:.2f}%\\nF1s: {f1s*100:.2f}%')"
      ]
    },
    {
      "cell_type": "code",
      "source": [
        "cm = confusion_matrix(labels, generated_labels)\n",
        "disp = ConfusionMatrixDisplay(confusion_matrix=cm)\n",
        "disp.plot()\n",
        "plt.show()"
      ],
      "metadata": {
        "colab": {
          "base_uri": "https://localhost:8080/",
          "height": 449
        },
        "id": "2OJ4Fo3DjJr1",
        "outputId": "ad9410a9-d8d3-43e8-bf05-2cea3428e6ac"
      },
      "execution_count": 11,
      "outputs": [
        {
          "output_type": "display_data",
          "data": {
            "text/plain": [
              "<Figure size 640x480 with 2 Axes>"
            ],
            "image/png": "[encoded data removed]"
          },
          "metadata": {}
        }
      ]
    },
    {
      "cell_type": "markdown",
      "metadata": {
        "id": "Q8JLGIRRy5ku"
      },
      "source": [
        "##3-shot"
      ]
    },
    {
      "cell_type": "code",
      "execution_count": 12,
      "metadata": {
        "colab": {
          "base_uri": "https://localhost:8080/"
        },
        "id": "8NVMgps9y7U9",
        "outputId": "bbaa6839-4d79-449e-e435-cf140c5fcb32"
      },
      "outputs": [
        {
          "output_type": "stream",
          "name": "stderr",
          "text": [
            "100%|██████████| 500/500 [1:21:43<00:00,  9.81s/it]\n"
          ]
        }
      ],
      "source": [
        "GROQ_API_KEY = \"YOUR_GROQ_API_KEY\"\n",
        "groq_llm = ChatGroq(model_name=\"mixtral-8x7b-32768\", temperature=0,\n",
        "                    api_key=GROQ_API_KEY, max_tokens=1)\n",
        "\n",
        "positive_reviews = [train_texts[i] for i in range(len(train_texts)) if train_labels[i] == 1]\n",
        "negative_reviews = [train_texts[i] for i in range(len(train_texts)) if train_labels[i] == 0]\n",
        "examples = create_examples(positive_reviews, negative_reviews, 3)\n",
        "\n",
        "system_message = \"\"\"Classify the input text as 'positive' or 'negative'.\n",
        "The text will be delimited by triple backticks ``` in the input.\n",
        "Answer only with 'positive' or 'negative'.\n",
        "Do not explain your answer!\"\"\"\n",
        "user_message_template =\"Text: ```{text}```\"\n",
        "\n",
        "generated_labels = []\n",
        "for i in tqdm(range(len(texts))):\n",
        "    prompt = create_prompt(system_message, examples, user_message_template)\n",
        "    prompt.append({\"role\":\"user\",\n",
        "                   \"content\":user_message_template.format(text=texts[i])})\n",
        "    response = groq_llm.invoke(prompt)\n",
        "    label = 1 if response.content.lower() == 'positive' else 0\n",
        "    generated_labels.append(label)"
      ]
    },
    {
      "cell_type": "code",
      "execution_count": 13,
      "metadata": {
        "colab": {
          "base_uri": "https://localhost:8080/"
        },
        "id": "uYqGVZUUy7RZ",
        "outputId": "dac15fde-2167-48c3-ac69-c629c720a7e1"
      },
      "outputs": [
        {
          "output_type": "stream",
          "name": "stdout",
          "text": [
            "\n",
            "Acc: 84.60%\n",
            "Pre: 83.66%\n",
            "Rec: 86.00%\n",
            "F1s: 84.81%\n"
          ]
        }
      ],
      "source": [
        "acc = accuracy_score(labels, generated_labels)\n",
        "pre = precision_score(labels, generated_labels)\n",
        "rec = recall_score(labels, generated_labels)\n",
        "f1s = f1_score(labels, generated_labels)\n",
        "\n",
        "print(f'\\nAcc: {acc*100:.2f}%\\nPre: {pre*100:.2f}%\\nRec: {rec*100:.2f}%\\nF1s: {f1s*100:.2f}%')"
      ]
    },
    {
      "cell_type": "code",
      "source": [
        "cm = confusion_matrix(labels, generated_labels)\n",
        "disp = ConfusionMatrixDisplay(confusion_matrix=cm)\n",
        "disp.plot()\n",
        "plt.show()"
      ],
      "metadata": {
        "colab": {
          "base_uri": "https://localhost:8080/",
          "height": 449
        },
        "id": "L-Nm9pPYjLi0",
        "outputId": "b4d2440f-0717-4dcf-b2a7-7b9e5a38082a"
      },
      "execution_count": 14,
      "outputs": [
        {
          "output_type": "display_data",
          "data": {
            "text/plain": [
              "<Figure size 640x480 with 2 Axes>"
            ],
            "image/png": "[encoded data removed]"
          },
          "metadata": {}
        }
      ]
    },
    {
      "cell_type": "code",
      "source": [],
      "metadata": {
        "id": "jDWg2qrH2TR7"
      },
      "execution_count": null,
      "outputs": []
    }
  ],
  "metadata": {
    "colab": {
      "provenance": [],
      "authorship_tag": "ABX9TyOOLNlg2AHTObBrVcOXchL+",
      "include_colab_link": true
    },
    "kernelspec": {
      "display_name": "Python 3",
      "name": "python3"
    },
    "language_info": {
      "name": "python"
    }
  },
  "nbformat": 4,
  "nbformat_minor": 0
}